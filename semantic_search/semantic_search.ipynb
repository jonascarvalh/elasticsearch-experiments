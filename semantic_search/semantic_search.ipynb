{
 "cells": [
  {
   "cell_type": "code",
   "execution_count": null,
   "metadata": {},
   "outputs": [],
   "source": [
    "!pip freeze"
   ]
  },
  {
   "cell_type": "code",
   "execution_count": null,
   "metadata": {},
   "outputs": [],
   "source": [
    "%pip install --upgrade elasticsearch tensorflow tensorflow-hub tensorflow-text urllib3"
   ]
  },
  {
   "cell_type": "markdown",
   "metadata": {},
   "source": [
    "#### Imports"
   ]
  },
  {
   "cell_type": "code",
   "execution_count": 2,
   "metadata": {},
   "outputs": [
    {
     "name": "stderr",
     "output_type": "stream",
     "text": [
      "d:\\Codes\\TJMA\\elasticsearch-experiments\\venv\\lib\\site-packages\\tqdm\\auto.py:21: TqdmWarning: IProgress not found. Please update jupyter and ipywidgets. See https://ipywidgets.readthedocs.io/en/stable/user_install.html\n",
      "  from .autonotebook import tqdm as notebook_tqdm\n"
     ]
    }
   ],
   "source": [
    "import tensorflow_text as tf_text\n",
    "import tensorflow_hub  as tf_hub\n",
    "\n",
    "from elasticsearch import Elasticsearch\n",
    "from datasets      import load_dataset\n",
    "from IPython       import display\n",
    "import urllib3"
   ]
  },
  {
   "cell_type": "code",
   "execution_count": 3,
   "metadata": {},
   "outputs": [],
   "source": [
    "urllib3.disable_warnings()"
   ]
  },
  {
   "cell_type": "markdown",
   "metadata": {},
   "source": [
    "#### Constants"
   ]
  },
  {
   "cell_type": "code",
   "execution_count": 4,
   "metadata": {},
   "outputs": [],
   "source": [
    "MODEL_MULTILINGUAL_SENTENCE_ENCODER: str = \"https://www.kaggle.com/models/google/universal-sentence-encoder/frameworks/TensorFlow2/variations/multilingual-large/versions/2\""
   ]
  },
  {
   "cell_type": "markdown",
   "metadata": {},
   "source": [
    "#### Client Elasticsearch"
   ]
  },
  {
   "cell_type": "code",
   "execution_count": 5,
   "metadata": {},
   "outputs": [],
   "source": [
    "es_host:     str   = \"https://127.0.0.1:9200/\"\n",
    "es_username: str   = \"elastic\"\n",
    "es_password: str   = \"\""
   ]
  },
  {
   "cell_type": "code",
   "execution_count": 6,
   "metadata": {},
   "outputs": [
    {
     "name": "stderr",
     "output_type": "stream",
     "text": [
      "d:\\Codes\\TJMA\\elasticsearch-experiments\\venv\\lib\\site-packages\\elasticsearch\\_sync\\client\\__init__.py:399: SecurityWarning: Connecting to 'https://127.0.0.1:9200' using TLS with verify_certs=False is insecure\n",
      "  _transport = transport_class(\n"
     ]
    }
   ],
   "source": [
    "es = Elasticsearch(\n",
    "    hosts        = es_host,\n",
    "    basic_auth   = (es_username, es_password),\n",
    "    verify_certs = False\n",
    ")"
   ]
  },
  {
   "cell_type": "code",
   "execution_count": 7,
   "metadata": {},
   "outputs": [
    {
     "data": {
      "text/plain": [
       "'You Know, for Search'"
      ]
     },
     "execution_count": 7,
     "metadata": {},
     "output_type": "execute_result"
    }
   ],
   "source": [
    "es.info()[\"tagline\"]"
   ]
  },
  {
   "cell_type": "markdown",
   "metadata": {},
   "source": [
    "#### Download dataset BBC News"
   ]
  },
  {
   "cell_type": "code",
   "execution_count": 8,
   "metadata": {},
   "outputs": [
    {
     "name": "stderr",
     "output_type": "stream",
     "text": [
      "Repo card metadata block was not found. Setting CardData to empty.\n"
     ]
    }
   ],
   "source": [
    "bbc_news_dataset = load_dataset(\"SetFit/bbc-news\")"
   ]
  },
  {
   "cell_type": "code",
   "execution_count": 9,
   "metadata": {},
   "outputs": [
    {
     "data": {
      "text/plain": [
       "DatasetDict({\n",
       "    train: Dataset({\n",
       "        features: ['text', 'label', 'label_text'],\n",
       "        num_rows: 1225\n",
       "    })\n",
       "    test: Dataset({\n",
       "        features: ['text', 'label', 'label_text'],\n",
       "        num_rows: 1000\n",
       "    })\n",
       "})"
      ]
     },
     "execution_count": 9,
     "metadata": {},
     "output_type": "execute_result"
    }
   ],
   "source": [
    "bbc_news_dataset"
   ]
  },
  {
   "cell_type": "markdown",
   "metadata": {},
   "source": [
    "#### Download Multilingual Universal Sentence Encoder"
   ]
  },
  {
   "cell_type": "code",
   "execution_count": 10,
   "metadata": {},
   "outputs": [],
   "source": [
    "model = tf_hub.load(MODEL_MULTILINGUAL_SENTENCE_ENCODER)"
   ]
  },
  {
   "cell_type": "markdown",
   "metadata": {},
   "source": [
    "#### Test model"
   ]
  },
  {
   "cell_type": "code",
   "execution_count": 11,
   "metadata": {},
   "outputs": [
    {
     "data": {
      "text/plain": [
       "array([ 0.01557496, -0.03167885,  0.03958492, -0.02724898, -0.05013365,\n",
       "       -0.03052995,  0.08521674, -0.05683852, -0.01631888, -0.00668247,\n",
       "       -0.07508523, -0.07110775,  0.05708567, -0.03136145,  0.00650919,\n",
       "       -0.00293858,  0.04844021,  0.02195126,  0.04281716,  0.00250192,\n",
       "        0.09268538, -0.05472551,  0.02698815,  0.02663275,  0.04330843,\n",
       "        0.04074765,  0.02422643, -0.02287512,  0.01208858,  0.07331301,\n",
       "        0.07293201, -0.07729743,  0.02792338, -0.01446387, -0.01396071,\n",
       "        0.01847963,  0.04072797,  0.047226  , -0.00339188, -0.04884171,\n",
       "        0.03322484,  0.00852153, -0.0442864 , -0.02766304,  0.07173017,\n",
       "        0.02564158, -0.00111083,  0.01233467,  0.001432  , -0.05230822,\n",
       "        0.06596167, -0.02677762, -0.09242167,  0.05081501,  0.02615864,\n",
       "       -0.00569609, -0.05499454, -0.01306279,  0.00563923, -0.00710892,\n",
       "        0.0486436 ,  0.02045606, -0.01976168, -0.0570779 ,  0.01903506,\n",
       "       -0.09717009,  0.04094103,  0.0415053 ,  0.02314106,  0.06925554,\n",
       "       -0.04213634,  0.02521607,  0.04082839, -0.03432542, -0.0673557 ,\n",
       "        0.0347725 ,  0.02702206,  0.0529801 , -0.039577  ,  0.07163721,\n",
       "        0.03231607, -0.08891258,  0.01999233, -0.08023658, -0.06706471,\n",
       "       -0.03339813,  0.04837576,  0.02763467, -0.01121912, -0.0634575 ,\n",
       "        0.04724896,  0.0133353 ,  0.02183066,  0.04031706, -0.01841719,\n",
       "        0.02573961, -0.05065538,  0.08861738,  0.00967605, -0.00580298,\n",
       "        0.00378593,  0.07332144,  0.07559218,  0.02433489,  0.07118147,\n",
       "       -0.00566479, -0.04774971, -0.04415339,  0.02298845,  0.03569961,\n",
       "        0.03043042, -0.11856776, -0.05257139,  0.05748794,  0.00754493,\n",
       "       -0.05095927, -0.04305691,  0.01391031,  0.10136341,  0.01685178,\n",
       "       -0.00890048,  0.05757375, -0.0719616 ,  0.01130043,  0.01996902,\n",
       "       -0.04423966, -0.00850423, -0.03210004,  0.03067578, -0.01100393,\n",
       "        0.06689596, -0.03274254,  0.03321636,  0.00491901,  0.03126942,\n",
       "        0.04316667,  0.02948976,  0.08441874,  0.03317071,  0.05267472,\n",
       "        0.03402367,  0.03680216,  0.0125401 , -0.01406597, -0.03173685,\n",
       "       -0.04077103, -0.03401491,  0.01441359, -0.00744151,  0.04804302,\n",
       "        0.0283586 , -0.04555497,  0.02447189, -0.07589333,  0.00782594,\n",
       "       -0.06534582, -0.01521757, -0.00378995,  0.02374847, -0.01449493,\n",
       "        0.04391314, -0.07407625, -0.020749  ,  0.02947496, -0.01659071,\n",
       "        0.00091781,  0.04909892,  0.02051377, -0.00958485,  0.02274834,\n",
       "       -0.0636851 ,  0.01898302,  0.01255094, -0.05005936,  0.03740329,\n",
       "       -0.00528961,  0.0048578 ,  0.06040582,  0.0723122 ,  0.01433268,\n",
       "        0.05849464, -0.05517045,  0.02375199,  0.00168295, -0.10688722,\n",
       "        0.07994045, -0.10312977,  0.02635831,  0.00971373, -0.01582391,\n",
       "       -0.04239853, -0.00873411, -0.05553102,  0.05989   , -0.05267918,\n",
       "        0.02676185,  0.00237411,  0.05843582,  0.01797414, -0.0556173 ,\n",
       "        0.1031335 , -0.00833562, -0.02978352, -0.0467345 ,  0.10692755,\n",
       "        0.05078071, -0.03697583,  0.02296168, -0.0174509 ,  0.01645789,\n",
       "        0.04099231,  0.00734089,  0.01661336, -0.00136339, -0.04371404,\n",
       "        0.02468645,  0.05011158,  0.00182948, -0.01052495, -0.03033899,\n",
       "       -0.02926033, -0.0649301 , -0.06277122,  0.0926624 ,  0.07675923,\n",
       "       -0.08108881, -0.02740723, -0.00650049, -0.00283611, -0.00593681,\n",
       "       -0.09322803,  0.00460395,  0.03937374, -0.02746706,  0.02533813,\n",
       "        0.05009847, -0.00320588, -0.00195604,  0.03224714,  0.05146855,\n",
       "        0.00050496, -0.0246662 ,  0.02329437,  0.08767556,  0.0378146 ,\n",
       "       -0.03491752,  0.02744109, -0.00650663,  0.01410517,  0.03130061,\n",
       "       -0.02930216,  0.0076295 ,  0.01364069,  0.00413098,  0.04990483,\n",
       "       -0.01437855,  0.01533961,  0.03017032, -0.01424022, -0.03483183,\n",
       "        0.0310542 , -0.06339981,  0.07388411,  0.02779928,  0.01936482,\n",
       "       -0.07954002, -0.04370131,  0.06917843, -0.075028  , -0.07406146,\n",
       "        0.02727399,  0.04875281,  0.06547025, -0.03883973,  0.05592851,\n",
       "        0.05399633, -0.06001795,  0.07359071,  0.02001674,  0.01648463,\n",
       "        0.03745127,  0.01377652,  0.03495152, -0.03975759, -0.03675272,\n",
       "        0.01413485, -0.02190645, -0.07328483, -0.02912117, -0.08513787,\n",
       "       -0.00828818, -0.08825177,  0.01382765,  0.01555016, -0.00414198,\n",
       "       -0.048019  ,  0.01352752, -0.01828679, -0.03597098, -0.00053967,\n",
       "       -0.00147144, -0.02169825, -0.0164662 ,  0.01899461, -0.0112559 ,\n",
       "       -0.03943153, -0.01987355,  0.0137569 , -0.05046682,  0.00075323,\n",
       "        0.01712715, -0.00974743, -0.06001071, -0.02552171, -0.00260265,\n",
       "       -0.03176911,  0.0143528 , -0.06148361,  0.03138755, -0.01715464,\n",
       "        0.00461271,  0.03430109,  0.06753227, -0.00983506,  0.03916625,\n",
       "        0.02575018, -0.03546803, -0.00686861, -0.09541666, -0.03982715,\n",
       "       -0.03258698, -0.00586928,  0.06427683,  0.03635954, -0.03508777,\n",
       "        0.03958741, -0.06510351, -0.03533327,  0.09606442, -0.01033814,\n",
       "        0.0015285 ,  0.06722353,  0.09963212, -0.07366978,  0.04062931,\n",
       "       -0.05359901, -0.02784093,  0.00159325,  0.03838333, -0.03918725,\n",
       "       -0.02189787,  0.04500097, -0.06702241,  0.09001271, -0.04721673,\n",
       "       -0.00856986, -0.07488348, -0.02313267, -0.06078109,  0.02703893,\n",
       "        0.02442701,  0.01513511,  0.05094717,  0.01416277, -0.0329292 ,\n",
       "       -0.05988896,  0.05074374, -0.03700273, -0.0286172 , -0.07662439,\n",
       "       -0.03218465, -0.00147891,  0.05268947,  0.06402199,  0.02855354,\n",
       "       -0.02027817,  0.03639312, -0.01028769, -0.05808316, -0.02806128,\n",
       "       -0.00763553, -0.01521052,  0.07383376,  0.05395937,  0.01791447,\n",
       "       -0.03975299,  0.06946014, -0.06952619, -0.09111147, -0.04036836,\n",
       "        0.03373853,  0.03370513, -0.02230192,  0.01445168, -0.02396854,\n",
       "        0.00621666,  0.07555149, -0.00116714,  0.00286332,  0.04341331,\n",
       "        0.00909602,  0.02006774,  0.06722926, -0.05935364, -0.00538692,\n",
       "       -0.03164583,  0.05804021,  0.00818828, -0.03435881, -0.02577515,\n",
       "       -0.00121984, -0.01846134,  0.02661578,  0.07655272, -0.02906274,\n",
       "        0.01039033, -0.05080946,  0.02117405, -0.04558004,  0.04475727,\n",
       "       -0.00439301,  0.01077117, -0.00462063,  0.01059236, -0.00669894,\n",
       "        0.02585952,  0.0767527 , -0.05415066, -0.06718152, -0.05993868,\n",
       "       -0.06242976,  0.06783928,  0.07347606, -0.01120792, -0.04343485,\n",
       "        0.00887516,  0.06359284,  0.00990088,  0.00270686,  0.02829305,\n",
       "       -0.07433924,  0.07688995, -0.04904145,  0.02486387, -0.05581294,\n",
       "        0.03662069,  0.02261085,  0.06342016, -0.01607122, -0.02682244,\n",
       "        0.01877229,  0.03415846,  0.01818324,  0.04342986,  0.02715136,\n",
       "        0.08826104, -0.01439673,  0.01096442,  0.0209125 , -0.04248322,\n",
       "       -0.04477802,  0.01546986, -0.05559488, -0.00819787,  0.02634781,\n",
       "       -0.02018977, -0.08407696, -0.05189486,  0.00565511, -0.02327822,\n",
       "        0.00975017, -0.01711769, -0.08099755,  0.0565133 ,  0.01627686,\n",
       "        0.00491021,  0.0268094 , -0.06419274,  0.07952153,  0.03597137,\n",
       "       -0.03909383, -0.01217549,  0.00590535, -0.06045774,  0.07010439,\n",
       "       -0.00411838, -0.04754575, -0.00715399,  0.00319481, -0.04127159,\n",
       "       -0.0537362 , -0.04519548,  0.02874257, -0.01913087, -0.00933276,\n",
       "       -0.03458708, -0.00942815, -0.04575146,  0.06178005, -0.0692967 ,\n",
       "       -0.03107117,  0.01953582,  0.06571767,  0.08218773,  0.00165611,\n",
       "       -0.0253493 ,  0.00588064, -0.00973713, -0.02911654,  0.0129049 ,\n",
       "       -0.05748278, -0.06274831], dtype=float32)"
      ]
     },
     "execution_count": 11,
     "metadata": {},
     "output_type": "execute_result"
    }
   ],
   "source": [
    "model(\"Hello World, Machine Learning ElasticSearch!\")[0].numpy()"
   ]
  },
  {
   "cell_type": "markdown",
   "metadata": {},
   "source": [
    "#### Create index to dataset"
   ]
  },
  {
   "cell_type": "code",
   "execution_count": 14,
   "metadata": {},
   "outputs": [
    {
     "data": {
      "text/plain": [
       "ObjectApiResponse({'acknowledged': True, 'shards_acknowledged': True, 'index': 'bbc_news'})"
      ]
     },
     "execution_count": 14,
     "metadata": {},
     "output_type": "execute_result"
    }
   ],
   "source": [
    "bbc_news_index: str = \"bbc_news\"\n",
    "\n",
    "es.indices.create(\n",
    "    index = bbc_news_index,\n",
    "    settings = {\n",
    "        \"number_of_shards\": 2,\n",
    "        \"number_of_replicas\": 1\n",
    "    },\n",
    "    mappings = {\n",
    "        \"properties\": {\n",
    "            \"text\": {\"type\": \"text\"},\n",
    "            \"label\": {\"type\": \"integer\"},\n",
    "            \"label_text\": {\"type\": \"text\"},\n",
    "            \"dataset_type\": {\"type\": \"text\"},\n",
    "            \"text_embeddings\": {\"type\": \"dense_vector\", \"dims\": 512}\n",
    "        }\n",
    "    }\n",
    ")"
   ]
  },
  {
   "cell_type": "code",
   "execution_count": 13,
   "metadata": {},
   "outputs": [
    {
     "data": {
      "text/plain": [
       "ObjectApiResponse({'acknowledged': True})"
      ]
     },
     "execution_count": 13,
     "metadata": {},
     "output_type": "execute_result"
    }
   ],
   "source": [
    "# es.indices.delete(index=\"bbc_news\")"
   ]
  },
  {
   "cell_type": "markdown",
   "metadata": {},
   "source": [
    "#### Indexing dataset BBC News on Elasticsearch"
   ]
  },
  {
   "cell_type": "code",
   "execution_count": 15,
   "metadata": {},
   "outputs": [
    {
     "name": "stdout",
     "output_type": "stream",
     "text": [
      "Indexing BBC News test, dataset: 1000 / 1000\n"
     ]
    }
   ],
   "source": [
    "for dataset_type in bbc_news_dataset:\n",
    "    dataset = bbc_news_dataset[dataset_type]\n",
    "    size    = len(dataset)\n",
    "\n",
    "    for index, item in enumerate(dataset, start=1):\n",
    "        display.clear_output(wait=True)\n",
    "        print(f\"Indexing BBC News {dataset_type}, dataset: {index} / {size}\")\n",
    "\n",
    "        document: dict = {\n",
    "            \"text\": item[\"text\"],\n",
    "            \"label\": item[\"label\"],\n",
    "            \"label_text\": item[\"label_text\"],\n",
    "            \"dataset_type\": dataset_type,\n",
    "            \"text_embeddings\": model(item[\"text\"])[0].numpy()\n",
    "        }\n",
    "\n",
    "        es.index(\n",
    "            index = bbc_news_index,\n",
    "            document = document\n",
    "        )"
   ]
  },
  {
   "cell_type": "code",
   "execution_count": 16,
   "metadata": {},
   "outputs": [
    {
     "data": {
      "text/plain": [
       "ObjectApiResponse({'count': 2225, '_shards': {'total': 2, 'successful': 2, 'skipped': 0, 'failed': 0}})"
      ]
     },
     "execution_count": 16,
     "metadata": {},
     "output_type": "execute_result"
    }
   ],
   "source": [
    "es.count(index=bbc_news_index)"
   ]
  },
  {
   "cell_type": "markdown",
   "metadata": {},
   "source": [
    "#### Create Search Function"
   ]
  },
  {
   "cell_type": "code",
   "execution_count": 19,
   "metadata": {},
   "outputs": [],
   "source": [
    "def build_query(text: str) -> dict:\n",
    "    query: dict = {\n",
    "        \"script_score\": {\n",
    "            \"query\": {\"match_all\": {}},\n",
    "            \"script\": {\n",
    "                \"source\": \"cosineSimilarity(params.text_embeddings, 'text_embeddings') + 1.0\",\n",
    "                \"params\": {\"text_embeddings\": model(text)[0].numpy()}\n",
    "            }\n",
    "        }\n",
    "    }\n",
    "\n",
    "    return query"
   ]
  },
  {
   "cell_type": "code",
   "execution_count": 20,
   "metadata": {},
   "outputs": [],
   "source": [
    "def semantic_search(text: str) -> None:\n",
    "    query = build_query(text)\n",
    "\n",
    "    result = es.search(index=bbc_news_index, query=query, size=1)\n",
    "    result = result[\"hits\"][\"hits\"]\n",
    "\n",
    "    if len(result) == 0:\n",
    "        print(\"No results found...\")\n",
    "        return\n",
    "\n",
    "    result = result[0]\n",
    "    \n",
    "    print(f\"Score: \", result[\"_score\"])\n",
    "    print(f\"Label: \", result[\"_source\"][\"label_text\"])\n",
    "    print(f\"Text:  \", result[\"_source\"][\"text\"])"
   ]
  },
  {
   "cell_type": "markdown",
   "metadata": {},
   "source": [
    "#### Create main function"
   ]
  },
  {
   "cell_type": "code",
   "execution_count": 23,
   "metadata": {},
   "outputs": [],
   "source": [
    "def main() -> None:\n",
    "    semantic_search(\"economic growth\")\n",
    "    semantic_search(\"crescimento econômico\")\n",
    "    semantic_search(\"crecimiento económico\")"
   ]
  },
  {
   "cell_type": "code",
   "execution_count": 24,
   "metadata": {},
   "outputs": [
    {
     "name": "stdout",
     "output_type": "stream",
     "text": [
      "Score:  1.3477879\n",
      "Label:  business\n",
      "Text:   us economy shows solid gdp growth the us economy has grown more than expected  expanding at an annual rate of 3.8% in the last quarter of 2004.  the gross domestic product figure was ahead of the 3.1% the government estimated a month ago. the rise reflects stronger spending by businesses on capital equipment and a smaller-than-expected trade deficit. gdp is a measure of a country s economic health  reflecting the value of the goods and services it produces.  the new gdp figure  announced by the commerce department on friday  also topped the 3.5% growth rate that economists had forecast ahead of friday s announcement. growth was at an annual rate of 4% in the third quarter of 2004 and for the year it came in at 4.4%  the best figure in five years. however  the positive economic climate may lead to a rise in interest rates  with many expecting us rates to rise on 22 march. in the january-to-march quarter  the economy is expected to grow at an annual rate of about 4%  economists forecast. in the final quarter of 2004  businesses increased spending on capital equipment and software by 18%  up from 17.5% in the third quarter. consumer spending grew 4.2% in the final quarter  down from the third quarter s 5.1%.\n",
      "Score:  1.3394302\n",
      "Label:  business\n",
      "Text:   us economy shows solid gdp growth the us economy has grown more than expected  expanding at an annual rate of 3.8% in the last quarter of 2004.  the gross domestic product figure was ahead of the 3.1% the government estimated a month ago. the rise reflects stronger spending by businesses on capital equipment and a smaller-than-expected trade deficit. gdp is a measure of a country s economic health  reflecting the value of the goods and services it produces.  the new gdp figure  announced by the commerce department on friday  also topped the 3.5% growth rate that economists had forecast ahead of friday s announcement. growth was at an annual rate of 4% in the third quarter of 2004 and for the year it came in at 4.4%  the best figure in five years. however  the positive economic climate may lead to a rise in interest rates  with many expecting us rates to rise on 22 march. in the january-to-march quarter  the economy is expected to grow at an annual rate of about 4%  economists forecast. in the final quarter of 2004  businesses increased spending on capital equipment and software by 18%  up from 17.5% in the third quarter. consumer spending grew 4.2% in the final quarter  down from the third quarter s 5.1%.\n",
      "Score:  1.3169483\n",
      "Label:  business\n",
      "Text:   us economy shows solid gdp growth the us economy has grown more than expected  expanding at an annual rate of 3.8% in the last quarter of 2004.  the gross domestic product figure was ahead of the 3.1% the government estimated a month ago. the rise reflects stronger spending by businesses on capital equipment and a smaller-than-expected trade deficit. gdp is a measure of a country s economic health  reflecting the value of the goods and services it produces.  the new gdp figure  announced by the commerce department on friday  also topped the 3.5% growth rate that economists had forecast ahead of friday s announcement. growth was at an annual rate of 4% in the third quarter of 2004 and for the year it came in at 4.4%  the best figure in five years. however  the positive economic climate may lead to a rise in interest rates  with many expecting us rates to rise on 22 march. in the january-to-march quarter  the economy is expected to grow at an annual rate of about 4%  economists forecast. in the final quarter of 2004  businesses increased spending on capital equipment and software by 18%  up from 17.5% in the third quarter. consumer spending grew 4.2% in the final quarter  down from the third quarter s 5.1%.\n"
     ]
    }
   ],
   "source": [
    "if __name__ == \"__main__\":\n",
    "    main()"
   ]
  }
 ],
 "metadata": {
  "kernelspec": {
   "display_name": "venv",
   "language": "python",
   "name": "python3"
  },
  "language_info": {
   "codemirror_mode": {
    "name": "ipython",
    "version": 3
   },
   "file_extension": ".py",
   "mimetype": "text/x-python",
   "name": "python",
   "nbconvert_exporter": "python",
   "pygments_lexer": "ipython3",
   "version": "3.10.11"
  }
 },
 "nbformat": 4,
 "nbformat_minor": 2
}
